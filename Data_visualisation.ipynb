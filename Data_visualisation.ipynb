{
 "cells": [
  {
   "cell_type": "markdown",
   "metadata": {},
   "source": [
    "# 1 Sources de données : manipulation"
   ]
  },
  {
   "cell_type": "code",
   "execution_count": 66,
   "metadata": {},
   "outputs": [
    {
     "name": "stdout",
     "output_type": "stream",
     "text": [
      "           0         1         2         3         4         5         6  \\\n",
      "0   0.584778  0.699645 -0.169300 -0.159400 -0.342231  0.679366  1.243540   \n",
      "1   1.336635 -0.777383 -0.169300 -0.613929 -0.458469  0.679366 -0.331611   \n",
      "2  -0.543008  1.568485 -0.169300 -0.733541  1.219175 -1.471960 -1.119186   \n",
      "3   0.960706 -1.211803 -1.241532 -1.355528 -0.515720  0.679366 -0.331611   \n",
      "4  -0.543008 -0.342963 -1.241532 -0.781386 -0.385603 -1.471960 -0.331611   \n",
      "5  -0.543008  0.352109  1.975164 -0.159400 -0.472348  0.679366 -1.119186   \n",
      "6  -0.918937 -0.690499 -0.169300  0.319051 -0.385603 -1.471960 -1.119186   \n",
      "7  -1.670794 -1.124919  1.975164 -0.685696 -0.298859 -1.471960 -1.119186   \n",
      "8   0.000000 -0.951151 -0.169300  0.031981 -0.515720  0.679366 -0.331611   \n",
      "9   0.584778  0.004573 -0.169300  0.118102 -0.428976  0.679366  0.455965   \n",
      "10  0.208849  0.265225 -0.169300  0.797503 -0.450662  0.679366  1.243540   \n",
      "11 -0.543008  0.091457 -1.241532 -0.829232 -0.168741 -1.471960  2.031115   \n",
      "12 -1.670794  0.178341  1.975164 -0.685696 -0.303196  0.679366 -1.119186   \n",
      "13 -0.543008 -0.516731 -0.169300 -0.015864  3.821517  0.679366  0.455965   \n",
      "14 -0.167079  2.871744 -1.241532  0.079826  0.221610 -1.471960  1.243540   \n",
      "15 -0.543008  0.438993  0.902932  1.275954  0.611961  0.679366  0.455965   \n",
      "16  2.464421  0.786529 -0.169300  1.754405 -0.168741  0.679366 -1.119186   \n",
      "17  0.584778 -1.211803 -0.169300  2.711308 -0.515720  0.679366  1.243540   \n",
      "18  0.960706 -0.429847 -0.169300 -1.068457 -0.463674  0.679366 -0.331611   \n",
      "\n",
      "           7         8  \n",
      "0   1.326371  1.054093  \n",
      "1  -1.061097  1.054093  \n",
      "2  -1.061097 -0.948683  \n",
      "3   0.000000  1.054093  \n",
      "4   0.530548 -0.948683  \n",
      "5   2.122193 -0.948683  \n",
      "6  -1.061097 -0.948683  \n",
      "7  -1.061097 -0.948683  \n",
      "8  -0.265274  1.054093  \n",
      "9   0.530548  1.054093  \n",
      "10  1.326371  1.054093  \n",
      "11 -1.061097 -0.948683  \n",
      "12 -0.265274 -0.948683  \n",
      "13  0.530548 -0.948683  \n",
      "14 -1.061097 -0.948683  \n",
      "15 -1.061097 -0.948683  \n",
      "16  1.326371  1.054093  \n",
      "17 -0.265274  1.054093  \n",
      "18  0.530548  1.054093  \n"
     ]
    }
   ],
   "source": [
    "import pandas as pd\n",
    "import numpy as np\n",
    "from sklearn.preprocessing import StandardScaler,LabelEncoder\n",
    "from sklearn.impute import SimpleImputer\n",
    "\n",
    "\n",
    "def getColumnsList(df):\n",
    "    return df.columns.tolist()\n",
    "\n",
    "def getNaNIndex(df):\n",
    "    df_null=df.isnull().unstack()\n",
    "    return df_null[df_null]\n",
    "    \n",
    "\n",
    "\n",
    "def transformDataSet(name):\n",
    "\n",
    "    \"\"\" Fonctions qui transforme un jeu de donnée\"\"\"\n",
    "    #Importation du csv\n",
    "    df=pd.read_csv(name, sep=\",\")\n",
    "    \n",
    "    \n",
    "    encoder=LabelEncoder()\n",
    "    #Transformation des valeurs catégorielles\n",
    "    \n",
    "    \n",
    "    for col in ['contrat_de_travail','etat_civile','Solvable']:\n",
    "        df[col]=encoder.fit_transform(df[col])\n",
    "        \n",
    "    #Suppression des NaN    \n",
    "    imptr=SimpleImputer(missing_values=np.NaN, strategy='mean')\n",
    "    for col in  df.drop(\"ID_NOM\",axis=1).columns:\n",
    "        \n",
    "        imptr.fit(df[col].values.reshape(-1,1))\n",
    "        df[col]=imptr.transform(df[col].values.reshape(-1,1))[0:,0]\n",
    "    \n",
    "    #Création des jeux de données\n",
    "    train_set = df.sample(frac=0.75, random_state=0)\n",
    "    test_set = df.drop(train_set.index)\n",
    "\n",
    "    \n",
    "\n",
    "    df[['Niv_Etude_Bac','age','Salaire','dette_anterieure','enfant_a_Charge']]=pd.DataFrame(StandardScaler().fit_transform(df[['Niv_Etude_Bac','age','Salaire','dette_anterieure','enfant_a_Charge']]))\n",
    "    \n",
    "    print(df)\n",
    "\n",
    "\n",
    "transformDataSet('credit_immo.csv')"
   ]
  },
  {
   "cell_type": "code",
   "execution_count": 101,
   "metadata": {},
   "outputs": [
    {
     "data": {
      "text/plain": [
       "[<matplotlib.lines.Line2D at 0x2ab4580f5b0>]"
      ]
     },
     "execution_count": 101,
     "metadata": {},
     "output_type": "execute_result"
    },
    {
     "data": {
      "image/png": "[encoded data removed]",
      "text/plain": [
       "<Figure size 432x288 with 1 Axes>"
      ]
     },
     "metadata": {
      "needs_background": "light"
     },
     "output_type": "display_data"
    }
   ],
   "source": [
    "import matplotlib.pyplot as plt\n",
    "df=pd.read_csv('credit_immo.csv', sep=\",\")\n",
    "plt.plot(df[\"Niv_Etude_Bac\"],df[\"dette_anterieure\"],\"ro\")"
   ]
  },
  {
   "cell_type": "markdown",
   "metadata": {},
   "source": [
    "# 4) Visualisation des données"
   ]
  },
  {
   "cell_type": "code",
   "execution_count": 7,
   "metadata": {},
   "outputs": [],
   "source": [
    "montant_temps=pd.read_csv('Montant_Temps.csv',sep=',')\n",
    "X=montant_temps.iloc[:,:1].values\n",
    "\n",
    "Y=montant_temps.iloc[:,-1].values.reshape(-1,1)\n"
   ]
  },
  {
   "cell_type": "code",
   "execution_count": 9,
   "metadata": {},
   "outputs": [
    {
     "data": {
      "text/plain": [
       "Text(0.5, 0, 'Temps')"
      ]
     },
     "execution_count": 9,
     "metadata": {},
     "output_type": "execute_result"
    },
    {
     "data": {
      "image/png": "[encoded data removed]",
      "text/plain": [
       "<Figure size 432x288 with 1 Axes>"
      ]
     },
     "metadata": {
      "needs_background": "light"
     },
     "output_type": "display_data"
    }
   ],
   "source": [
    "\n",
    "\n",
    "plt.plot(X,Y,\"ro\")\n",
    "plt.ylabel(\"Montant du capital\")\n",
    "plt.xlabel(\"Temps\")plt.plot"
   ]
  },
  {
   "cell_type": "markdown",
   "metadata": {},
   "source": [
    "# 5) Analyse des données\n"
   ]
  },
  {
   "cell_type": "code",
   "execution_count": 18,
   "metadata": {},
   "outputs": [
    {
     "name": "stdout",
     "output_type": "stream",
     "text": [
      "           Nom  Age  Rating\n",
      "0      ANATOLE   55    4.53\n",
      "1     Vincent    59    3.54\n",
      "2      Brenda    55    3.98\n",
      "3    Philippe    53    5.59\n",
      "4      Michel    30    3.50\n",
      "5     Tillier    59    4.90\n",
      "6   Blanchard    53    3.80\n",
      "7        perez   34    3.78\n",
      "8        théo    40    5.98\n",
      "9     cyprien    30    4.80\n",
      "10   manuella    53    4.30\n",
      "11   LEGGERET    49    3.95\n",
      "12       perez   34    3.78\n",
      "13    sestre     40    5.98\n",
      "14      Fazal    30    4.80\n",
      "15      Donald   53    4.30\n",
      "16     Estelle   49    3.95\n",
      "[[4.53]\n",
      " [3.54]\n",
      " [3.98]\n",
      " [5.59]\n",
      " [3.5 ]\n",
      " [4.9 ]\n",
      " [3.8 ]\n",
      " [3.78]\n",
      " [5.98]\n",
      " [4.8 ]\n",
      " [4.3 ]\n",
      " [3.95]\n",
      " [3.78]\n",
      " [5.98]\n",
      " [4.8 ]\n",
      " [4.3 ]\n",
      " [3.95]]\n"
     ]
    }
   ],
   "source": [
    "tendance_centrale=pd.read_csv(\"tendance_centrale.csv\")\n",
    "X=tendance_centrale.iloc[:,1:2].values\n",
    "Y=tendance_centrale.iloc[:,2:3].values\n"
   ]
  },
  {
   "cell_type": "code",
   "execution_count": 26,
   "metadata": {},
   "outputs": [
    {
     "name": "stdout",
     "output_type": "stream",
     "text": [
      "Moyennes :\n",
      "\n",
      "Age       45.647059\n",
      "Rating     4.438824\n",
      "dtype: float64\n",
      "\n",
      "Médianes :\n",
      "\n",
      "Age       49.0\n",
      "Rating     4.3\n",
      "dtype: float64\n",
      "\n",
      "Mode :\n",
      "\n",
      "0    53\n",
      "dtype: int64\n",
      "0    3.78\n",
      "1    3.95\n",
      "2    4.30\n",
      "3    4.80\n",
      "4    5.98\n",
      "dtype: float64\n"
     ]
    }
   ],
   "source": [
    "#Calcul moyenne\n",
    "print(\"Moyennes :\\n\")\n",
    "print(tendance_centrale.mean())\n",
    "\n",
    "#Calcul médiance\n",
    "#Calcul médiance\n",
    "print(\"\\nMédianes :\\n\")\n",
    "print(tendance_centrale.median())\n",
    "\n",
    "#Calcul mode\n",
    "print(\"\\nMode :\\n\")\n",
    "print(tendance_centrale[\"Age\"].mode())\n",
    "print(tendance_centrale[\"Rating\"].mode())"
   ]
  },
  {
   "cell_type": "markdown",
   "metadata": {},
   "source": [
    "## Variance"
   ]
  },
  {
   "cell_type": "code",
   "execution_count": 30,
   "metadata": {},
   "outputs": [
    {
     "name": "stdout",
     "output_type": "stream",
     "text": [
      "\n",
      "Variance age :\n",
      "\n",
      "114.99264705882352\n",
      "\n",
      "Variance Rating  :\n",
      "\n",
      "0.640623529411765\n"
     ]
    }
   ],
   "source": [
    "#Calcul de la variance de l'age :\n",
    "#Calcul médiance\n",
    "print(\"\\nVariance age :\\n\")\n",
    "print(tendance_centrale[\"Age\"].var())\n",
    "\n",
    "print(\"\\nVariance Rating  :\\n\")\n",
    "print(tendance_centrale[\"Rating\"].var())"
   ]
  },
  {
   "cell_type": "markdown",
   "metadata": {},
   "source": [
    "# Analyse de corrélations"
   ]
  },
  {
   "cell_type": "code",
   "execution_count": 47,
   "metadata": {},
   "outputs": [
    {
     "name": "stdout",
     "output_type": "stream",
     "text": [
      "            longueur_sepal  largeur_sepal  longueur_petal  largeur_petal\n",
      "espèce                                                                  \n",
      "setosa               5.006          3.428           1.462          0.246\n",
      "versicolor           5.936          2.770           4.260          1.326\n",
      "virginica            6.588          2.974           5.552          2.026\n"
     ]
    }
   ],
   "source": [
    "iris=pd.read_csv(\"iris.csv\",sep=\",\")\n",
    "print(iris.groupby(\"espèce\").mean())\n",
    "iris_setosa=iris.loc[iris[\"espèce\"]==\"setosa\"]\n",
    "iris_versicolor=iris.loc[iris[\"espèce\"]==\"versicolor\"]\n",
    "iris_virginica=iris.loc[iris[\"espèce\"]==\"virginica\"]"
   ]
  },
  {
   "cell_type": "code",
   "execution_count": 67,
   "metadata": {},
   "outputs": [
    {
     "data": {
      "text/plain": [
       "[<matplotlib.lines.Line2D at 0x2ab45515220>]"
      ]
     },
     "execution_count": 67,
     "metadata": {},
     "output_type": "execute_result"
    },
    {
     "data": {
      "image/png": "[encoded data removed]",
      "text/plain": [
       "<Figure size 432x288 with 1 Axes>"
      ]
     },
     "metadata": {
      "needs_background": "light"
     },
     "output_type": "display_data"
    }
   ],
   "source": [
    "plt.plot(iris[\"longueur_sepal\"],iris[\"largeur_sepal\"],\"ro\")"
   ]
  },
  {
   "cell_type": "markdown",
   "metadata": {},
   "source": [
    "On a ici un exemple de relation linéaire positive pour "
   ]
  },
  {
   "cell_type": "code",
   "execution_count": 61,
   "metadata": {},
   "outputs": [
    {
     "data": {
      "text/plain": [
       "[<matplotlib.lines.Line2D at 0x2ab45437580>]"
      ]
     },
     "execution_count": 61,
     "metadata": {},
     "output_type": "execute_result"
    },
    {
     "data": {
      "image/png": "[encoded data removed]",
      "text/plain": [
       "<Figure size 432x288 with 1 Axes>"
      ]
     },
     "metadata": {
      "needs_background": "light"
     },
     "output_type": "display_data"
    }
   ],
   "source": [
    "plt.plot(iris_setosa[\"longueur_petal\"],iris_setosa[\"largeur_petal\"],\"ro\",color=\"red\")\n",
    "plt.plot(iris_versicolor[\"longueur_petal\"],iris_versicolor[\"largeur_petal\"],\"ro\",color=\"blue\")\n",
    "plt.plot(iris_virginica[\"longueur_petal\"],iris_virginica[\"largeur_petal\"],\"ro\",color=\"green\")"
   ]
  },
  {
   "cell_type": "markdown",
   "metadata": {},
   "source": [
    "## Coeff de correlation de pearson"
   ]
  },
  {
   "cell_type": "code",
   "execution_count": 62,
   "metadata": {},
   "outputs": [
    {
     "data": {
      "text/html": [
       "<div>\n",
       "<style scoped>\n",
       "    .dataframe tbody tr th:only-of-type {\n",
       "        vertical-align: middle;\n",
       "    }\n",
       "\n",
       "    .dataframe tbody tr th {\n",
       "        vertical-align: top;\n",
       "    }\n",
       "\n",
       "    .dataframe thead th {\n",
       "        text-align: right;\n",
       "    }\n",
       "</style>\n",
       "<table border=\"1\" class=\"dataframe\">\n",
       "  <thead>\n",
       "    <tr style=\"text-align: right;\">\n",
       "      <th></th>\n",
       "      <th>longueur_sepal</th>\n",
       "      <th>largeur_sepal</th>\n",
       "      <th>longueur_petal</th>\n",
       "      <th>largeur_petal</th>\n",
       "    </tr>\n",
       "  </thead>\n",
       "  <tbody>\n",
       "    <tr>\n",
       "      <th>longueur_sepal</th>\n",
       "      <td>1.000000</td>\n",
       "      <td>-0.117570</td>\n",
       "      <td>0.871754</td>\n",
       "      <td>0.817941</td>\n",
       "    </tr>\n",
       "    <tr>\n",
       "      <th>largeur_sepal</th>\n",
       "      <td>-0.117570</td>\n",
       "      <td>1.000000</td>\n",
       "      <td>-0.428440</td>\n",
       "      <td>-0.366126</td>\n",
       "    </tr>\n",
       "    <tr>\n",
       "      <th>longueur_petal</th>\n",
       "      <td>0.871754</td>\n",
       "      <td>-0.428440</td>\n",
       "      <td>1.000000</td>\n",
       "      <td>0.962865</td>\n",
       "    </tr>\n",
       "    <tr>\n",
       "      <th>largeur_petal</th>\n",
       "      <td>0.817941</td>\n",
       "      <td>-0.366126</td>\n",
       "      <td>0.962865</td>\n",
       "      <td>1.000000</td>\n",
       "    </tr>\n",
       "  </tbody>\n",
       "</table>\n",
       "</div>"
      ],
      "text/plain": [
       "                longueur_sepal  largeur_sepal  longueur_petal  largeur_petal\n",
       "longueur_sepal        1.000000      -0.117570        0.871754       0.817941\n",
       "largeur_sepal        -0.117570       1.000000       -0.428440      -0.366126\n",
       "longueur_petal        0.871754      -0.428440        1.000000       0.962865\n",
       "largeur_petal         0.817941      -0.366126        0.962865       1.000000"
      ]
     },
     "execution_count": 62,
     "metadata": {},
     "output_type": "execute_result"
    }
   ],
   "source": [
    "iris.corr()"
   ]
  }
 ],
 "metadata": {
  "kernelspec": {
   "display_name": "Python 3",
   "language": "python",
   "name": "python3"
  },
  "language_info": {
   "codemirror_mode": {
    "name": "ipython",
    "version": 3
   },
   "file_extension": ".py",
   "mimetype": "text/x-python",
   "name": "python",
   "nbconvert_exporter": "python",
   "pygments_lexer": "ipython3",
   "version": "3.8.3"
  }
 },
 "nbformat": 4,
 "nbformat_minor": 4
}
